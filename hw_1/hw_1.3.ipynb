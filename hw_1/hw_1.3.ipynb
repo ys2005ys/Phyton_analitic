{
 "cells": [
  {
   "attachments": {},
   "cell_type": "markdown",
   "metadata": {},
   "source": [
    "### Домашнее задание 1\n",
    "### Задача 3\n",
    "##### Дан список с затратами на рекламу. Но в данных есть ошибки,\n",
    "##### некоторые затраты имеют отрицательную величину. Удалите\n",
    "##### такие значения из списка и посчитайте суммарные затраты\n"
   ]
  },
  {
   "cell_type": "code",
   "execution_count": 3,
   "metadata": {},
   "outputs": [],
   "source": [
    "\n",
    "coasts = [100, 125, -90, 345, 655, -1, 0, 200]"
   ]
  },
  {
   "cell_type": "code",
   "execution_count": 4,
   "metadata": {},
   "outputs": [
    {
     "name": "stdout",
     "output_type": "stream",
     "text": [
      "Суммарные затраты: 1425\n"
     ]
    }
   ],
   "source": [
    "sum_coasts = sum([coast for coast in coasts if coast >= 0])\n",
    "print(\"Суммарные затраты:\", sum_coasts)"
   ]
  },
  {
   "cell_type": "code",
   "execution_count": 5,
   "metadata": {},
   "outputs": [
    {
     "name": "stdout",
     "output_type": "stream",
     "text": [
      "[100, 125, 0, 345, 655, 0, 0, 200]\n",
      "Суммарные затраты: 1425\n"
     ]
    }
   ],
   "source": [
    "new_coasts = [coast if coast > 0 else 0 for coast in coasts ]\n",
    "print (new_coasts)\n",
    "sum_coasts = sum(new_coasts)\n",
    "print(\"Суммарные затраты:\", sum_coasts)"
   ]
  }
 ],
 "metadata": {
  "kernelspec": {
   "display_name": "Python 3",
   "language": "python",
   "name": "python3"
  },
  "language_info": {
   "codemirror_mode": {
    "name": "ipython",
    "version": 3
   },
   "file_extension": ".py",
   "mimetype": "text/x-python",
   "name": "python",
   "nbconvert_exporter": "python",
   "pygments_lexer": "ipython3",
   "version": "3.11.3"
  },
  "orig_nbformat": 4
 },
 "nbformat": 4,
 "nbformat_minor": 2
}

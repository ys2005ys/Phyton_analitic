{
 "cells": [
  {
   "attachments": {},
   "cell_type": "markdown",
   "metadata": {},
   "source": [
    "### Домашнее задание 1\n",
    "### Задача 2\n",
    "##### На складе лежат разные фрукты в разном количестве.\n",
    "##### Нужно написать функцию, которая на вход принимает любое\n",
    "##### количество названий фруктов и их количество, а возвращает\n",
    "##### общее количество фруктов на складе"
   ]
  },
  {
   "cell_type": "code",
   "execution_count": 1,
   "metadata": {},
   "outputs": [
    {
     "name": "stdout",
     "output_type": "stream",
     "text": [
      "23\n"
     ]
    }
   ],
   "source": [
    "def total_fruits(*fruits):\n",
    "    total = 0\n",
    "    for fruit, quantity in fruits:\n",
    "        total += quantity\n",
    "    return total\n",
    "\n",
    "print(total_fruits(('яблоки', 10), ('бананы', 5), ('апельсины', 8)))"
   ]
  }
 ],
 "metadata": {
  "kernelspec": {
   "display_name": "Python 3",
   "language": "python",
   "name": "python3"
  },
  "language_info": {
   "codemirror_mode": {
    "name": "ipython",
    "version": 3
   },
   "file_extension": ".py",
   "mimetype": "text/x-python",
   "name": "python",
   "nbconvert_exporter": "python",
   "pygments_lexer": "ipython3",
   "version": "3.11.3"
  },
  "orig_nbformat": 4
 },
 "nbformat": 4,
 "nbformat_minor": 2
}
